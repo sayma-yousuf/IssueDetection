{
  "nbformat": 4,
  "nbformat_minor": 0,
  "metadata": {
    "colab": {
      "provenance": [],
      "authorship_tag": "ABX9TyM52Edg3mHK06Q9aQugeZ/7",
      "include_colab_link": true
    },
    "kernelspec": {
      "name": "python3",
      "display_name": "Python 3"
    },
    "language_info": {
      "name": "python"
    }
  },
  "cells": [
    {
      "cell_type": "markdown",
      "metadata": {
        "id": "view-in-github",
        "colab_type": "text"
      },
      "source": [
        "<a href=\"https://colab.research.google.com/github/sayma-yousuf/IssueDetection/blob/main/Untitled11.ipynb\" target=\"_parent\"><img src=\"https://colab.research.google.com/assets/colab-badge.svg\" alt=\"Open In Colab\"/></a>"
      ]
    },
    {
      "cell_type": "code",
      "execution_count": 2,
      "metadata": {
        "colab": {
          "base_uri": "https://localhost:8080/"
        },
        "id": "idurh6tqmL7_",
        "outputId": "3ec745ec-994a-40d7-caa7-a9f29eda2003"
      },
      "outputs": [
        {
          "output_type": "stream",
          "name": "stdout",
          "text": [
            "Drive already mounted at /content/drive; to attempt to forcibly remount, call drive.mount(\"/content/drive\", force_remount=True).\n",
            "✅ Backup saved to: /content/drive/My Drive/Colab Notebooks/Issue_detection_safe_backup.ipynb\n",
            "🧹 Removed metadata.widgets from: /content/drive/My Drive/Colab Notebooks/Issue_detection.ipynb\n",
            "\n",
            "✅ Done! Your notebook is safe and GitHub-ready.\n"
          ]
        }
      ],
      "source": [
        "# --- Super safe metadata cleanup for GitHub notebook rendering ---\n",
        "\n",
        "from google.colab import drive\n",
        "import json, shutil\n",
        "\n",
        "# 1️⃣ Mount Google Drive\n",
        "drive.mount('/content/drive')\n",
        "\n",
        "# 2️⃣ Exact path to your notebook\n",
        "notebook_path = '/content/drive/My Drive/Colab Notebooks/Issue_detection.ipynb'\n",
        "\n",
        "# 3️⃣ Make a backup\n",
        "backup_path = notebook_path.replace('.ipynb', '_safe_backup.ipynb')\n",
        "shutil.copy2(notebook_path, backup_path)\n",
        "print(f\"✅ Backup saved to: {backup_path}\")\n",
        "\n",
        "# 4️⃣ Load notebook JSON\n",
        "with open(notebook_path, 'r', encoding='utf-8') as f:\n",
        "    nb = json.load(f)\n",
        "\n",
        "# 5️⃣ Remove widgets metadata if it exists\n",
        "if 'widgets' in nb.get('metadata', {}):\n",
        "    nb['metadata'].pop('widgets', None)\n",
        "    with open(notebook_path, 'w', encoding='utf-8') as f:\n",
        "        json.dump(nb, f, ensure_ascii=False, indent=1)\n",
        "    print(f\"🧹 Removed metadata.widgets from: {notebook_path}\")\n",
        "else:\n",
        "    print(\"ℹ️ No metadata.widgets found — nothing to remove.\")\n",
        "\n",
        "print(\"\\n✅ Done! Your notebook is safe and GitHub-ready.\")\n"
      ]
    }
  ]
}